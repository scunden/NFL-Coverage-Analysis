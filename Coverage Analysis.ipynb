{
 "cells": [
  {
   "cell_type": "markdown",
   "id": "e6d0ce97",
   "metadata": {},
   "source": [
    "## Set Up Environment and Upload Data"
   ]
  },
  {
   "cell_type": "code",
   "execution_count": 1,
   "id": "03121e5a",
   "metadata": {
    "ExecuteTime": {
     "end_time": "2021-09-27T21:03:13.673521Z",
     "start_time": "2021-09-27T21:03:11.701217Z"
    }
   },
   "outputs": [],
   "source": [
    "import pandas as pd \n",
    "import numpy as np\n",
    "from matplotlib.pyplot import figure\n",
    "from os import listdir\n",
    "from os.path import isfile, join\n",
    "import re\n",
    "from scipy.stats import zscore\n",
    "from scipy.spatial import distance_matrix\n",
    "\n",
    "pd.set_option('display.max_columns', None)\n",
    "\n",
    "path = 'C:\\\\Users\\\\steve\\\\OneDrive\\\\Desktop\\\\Github\\\\NFL Big Data Bowl\\\\0. Data'\n",
    "allFiles = [f for f in listdir(path) if isfile(join(path, f))]"
   ]
  },
  {
   "cell_type": "code",
   "execution_count": 3,
   "id": "6b9f2168",
   "metadata": {
    "ExecuteTime": {
     "end_time": "2021-09-27T21:03:54.691993Z",
     "start_time": "2021-09-27T21:03:13.690523Z"
    }
   },
   "outputs": [],
   "source": [
    "# Upload files\n",
    "games = pd.read_csv(\"../0. Data/games.csv\")\n",
    "players = pd.read_csv(\"../0. Data/players.csv\")\n",
    "plays = pd.read_csv(\"../0. Data/plays.csv\")\n",
    "\n",
    "fbf_df = pd.DataFrame()\n",
    "\n",
    "# Go through all weekly data and upload it\n",
    "for file in allFiles:\n",
    "    if \"week\" in file:\n",
    "        temp_week = pd.read_csv(\"../0. Data/\"+file)\n",
    "        temp_week['week'] = re.findall(r'\\d+', file)[0]\n",
    "        fbf_df = pd.concat([fbf_df, temp_week])\n",
    "\n",
    "# merge with games to add home/away team indicators\n",
    "fbf_df = fbf_df.merge(games[['gameId','homeTeamAbbr','visitorTeamAbbr']], on='gameId')\n",
    "players['short_name'] = players.displayName.str.split(\" \").str[0].str[0].str.strip()+\".\"+\\\n",
    "players.displayName.str.split(\" \").str[1].str.strip()"
   ]
  },
  {
   "cell_type": "markdown",
   "id": "2f99e789",
   "metadata": {},
   "source": [
    "## Add Receiver Tier"
   ]
  },
  {
   "cell_type": "code",
   "execution_count": 21,
   "id": "7a2dc972",
   "metadata": {
    "ExecuteTime": {
     "end_time": "2021-09-27T21:06:57.310400Z",
     "start_time": "2021-09-27T21:06:57.224403Z"
    }
   },
   "outputs": [],
   "source": [
    "# Record who is being targetted on each play and format them\n",
    "plays['target'] = plays.playDescription.str.split(\" to \").str[1].str.split(\" \").str[0]\n",
    "plays['target'] = np.where(plays['target'].str.strip().str[-1]==\".\", \n",
    "                           plays['target'].str.strip().str[:-1], plays['target'])\n",
    "\n",
    "completed_plays = plays[plays.passResult == 'C']\n",
    "reception_leaders = completed_plays.target.value_counts().reset_index()"
   ]
  },
  {
   "cell_type": "code",
   "execution_count": 22,
   "id": "ca8da7eb",
   "metadata": {
    "ExecuteTime": {
     "end_time": "2021-09-27T21:06:57.640116Z",
     "start_time": "2021-09-27T21:06:57.484119Z"
    }
   },
   "outputs": [
    {
     "data": {
      "text/plain": [
       "array([[<AxesSubplot:title={'center':'target'}>]], dtype=object)"
      ]
     },
     "execution_count": 22,
     "metadata": {},
     "output_type": "execute_result"
    },
    {
     "data": {
      "image/png": "[encoded data removed]",
      "text/plain": [
       "<Figure size 432x288 with 1 Axes>"
      ]
     },
     "metadata": {
      "needs_background": "light"
     },
     "output_type": "display_data"
    }
   ],
   "source": [
    "reception_leaders[reception_leaders.target>10].hist()"
   ]
  },
  {
   "cell_type": "code",
   "execution_count": 23,
   "id": "0b3feac1",
   "metadata": {
    "ExecuteTime": {
     "end_time": "2021-09-27T21:06:57.765787Z",
     "start_time": "2021-09-27T21:06:57.716449Z"
    }
   },
   "outputs": [],
   "source": [
    "reception_leaders[\"WR Tier\"] = np.where(reception_leaders.target > np.quantile(reception_leaders[reception_leaders.target>10].target, 0.5),\n",
    "                                        \"WR3\", \"WR4\" )\n",
    "\n",
    "reception_leaders[\"WR Tier\"] = np.where(reception_leaders.target > np.quantile(reception_leaders[reception_leaders.target>10].target, 0.75),\n",
    "                                        \"WR2\", reception_leaders[\"WR Tier\"]  )\n",
    "\n",
    "\n",
    "reception_leaders[\"WR Tier\"] = np.where(reception_leaders.target > np.quantile(reception_leaders[reception_leaders.target>10].target, 0.9),\n",
    "                                        \"WR1\", reception_leaders[\"WR Tier\"])\n",
    "reception_leaders.rename({'target':'receptions'}, axis=1, inplace=True)\n",
    "reception_leaders.rename({'index':'target'}, axis=1, inplace=True)\n",
    "\n",
    "plays = pd.merge(plays, reception_leaders[['target','WR Tier']], on='target', how='left')"
   ]
  },
  {
   "cell_type": "markdown",
   "id": "3f91ea31",
   "metadata": {},
   "source": [
    "## Filter Plays"
   ]
  },
  {
   "cell_type": "code",
   "execution_count": 24,
   "id": "4d878278",
   "metadata": {
    "ExecuteTime": {
     "end_time": "2021-09-27T21:07:07.988198Z",
     "start_time": "2021-09-27T21:07:00.361482Z"
    }
   },
   "outputs": [],
   "source": [
    "\n",
    "\n",
    "# filter on pass play only without DPI\n",
    "filtered_plays = plays[plays['playType']=='play_type_pass']\n",
    "filtered_plays = filtered_plays[~filtered_plays['target'].isna()]\n",
    "filtered_plays = filtered_plays[filtered_plays['isDefensivePI']==False]\n",
    "\n",
    "# Retain only two events - snap and throw\n",
    "fbf_df = fbf_df[fbf_df['event'].isin(['ball_snap', 'pass_forward'])]\n",
    "fbf_df = fbf_df.merge(filtered_plays[['possessionTeam',\n",
    "                                      'gameId',\n",
    "                                      'playId',\n",
    "                                      'target',\n",
    "                                      'personnelO',\n",
    "                                      'defendersInTheBox',\n",
    "                                      'numberOfPassRushers',\n",
    "                                      'personnelD',\n",
    "                                      'typeDropback',\n",
    "                                      'down',\n",
    "                                      'yardsToGo',\n",
    "                                      'WR Tier'\n",
    "                                     ]], \n",
    "                      on=['gameId','playId'], how='inner')\n",
    "\n",
    "# Identify team in possession\n",
    "fbf_df['team2'] = np.where(fbf_df['team']=='home',fbf_df['homeTeamAbbr'],\n",
    "                                 fbf_df['visitorTeamAbbr'])\n",
    "fbf_df[\"inPoss\"] = np.where(fbf_df['possessionTeam']==fbf_df['team2'],1,0)\n",
    "fbf_df = pd.merge(fbf_df, players[['position','displayName','short_name']], on=['position','displayName'], how='inner')\n",
    "fbf_df[\"targetted\"] = np.where(fbf_df[\"short_name\"]==fbf_df[\"target\"],1,0)\n",
    "\n",
    "# Some players aren't properly matched by our created target, remove the play from analysis\n",
    "retain = fbf_df.groupby(['gameId','playId','frameId']).sum(['targetted']).reset_index()\n",
    "retain_plays = retain[retain.targetted==1].playId.unique()\n",
    "fbf_df = fbf_df[fbf_df.playId.isin(retain_plays)]\n",
    "\n",
    "# some plays only have offense and not defense, remove from analysis\n",
    "exclude = fbf_df.groupby(['gameId','playId','frameId','inPoss']).size().reset_index()\n",
    "exclude = exclude.groupby(['gameId','playId','frameId']).size().reset_index()\n",
    "exclude = exclude[exclude[0]!=2]\n",
    "fbf_df = fbf_df.merge(exclude[['gameId','playId','frameId']], on=['gameId','playId','frameId'], \n",
    "                      how='outer', indicator=True)\n",
    "fbf_df = fbf_df[fbf_df._merge!=\"both\"]"
   ]
  },
  {
   "cell_type": "markdown",
   "id": "b2c5782a",
   "metadata": {},
   "source": [
    "## Distance to QB"
   ]
  },
  {
   "cell_type": "code",
   "execution_count": 25,
   "id": "87969b90",
   "metadata": {
    "ExecuteTime": {
     "end_time": "2021-09-27T21:07:09.272198Z",
     "start_time": "2021-09-27T21:07:07.989199Z"
    }
   },
   "outputs": [],
   "source": [
    "qb_fbf_df = fbf_df[fbf_df.position==\"QB\"][['x', 'y', 's', 'a', 'dis', 'o', 'dir'\n",
    "                                           , 'frameId', 'gameId', 'playId']]\n",
    "\n",
    "qb_fbf_df.columns = ['qb_x', 'qb_y', 'qb_s', 'qb_a', 'qb_dis', 'qb_o', 'qb_dir'\n",
    "                                           , 'frameId', 'gameId', 'playId']\n",
    "\n",
    "fbf_df = pd.merge(fbf_df, qb_fbf_df, on=['frameId', 'gameId', 'playId'])\n",
    "\n",
    "fbf_df['delta_x'] = fbf_df['x'] - fbf_df['qb_x']\n",
    "fbf_df['delta_y'] = fbf_df['y'] - fbf_df['qb_y']\n",
    "fbf_df['delta_s'] = fbf_df['s'] - fbf_df['qb_s']\n",
    "fbf_df['delta_a'] = fbf_df['a'] - fbf_df['qb_a']\n",
    "fbf_df['delta_dis'] = fbf_df['dis'] - fbf_df['qb_dis']\n",
    "fbf_df['delta_o'] = fbf_df['o'] - fbf_df['qb_o']\n",
    "fbf_df['delta_dir'] = fbf_df['dir'] - fbf_df['qb_dir']"
   ]
  },
  {
   "cell_type": "markdown",
   "id": "8ae00e39",
   "metadata": {},
   "source": [
    "## Find Closest Defender"
   ]
  },
  {
   "cell_type": "code",
   "execution_count": 26,
   "id": "6031179a",
   "metadata": {
    "ExecuteTime": {
     "end_time": "2021-09-27T21:09:16.249393Z",
     "start_time": "2021-09-27T21:07:09.273199Z"
    }
   },
   "outputs": [],
   "source": [
    "temp=[]\n",
    "for g, grouped_df in fbf_df.groupby(['gameId', 'playId', 'frameId']):\n",
    "#     print(g)\n",
    "\n",
    "    # Isolate the wide receivers\n",
    "    df_wr = grouped_df[(grouped_df[\"inPoss\"]==1)]\n",
    "\n",
    "    if not df_wr.empty:\n",
    "        # Isolate the defenders\n",
    "        df_d =  grouped_df[grouped_df[\"inPoss\"]==0]\n",
    "        # Calculate the distance matrix between each WR and defenders\n",
    "        dm = distance_matrix(df_wr[['x','y']].values, \n",
    "                 df_d[['x','y']].values)\n",
    "        \n",
    "\n",
    "        # use argmin and min to record the closest defender, and their distance\n",
    "        closest_defender = dm.argmin(axis=1)\n",
    "        closest_defender_distance = dm.min(axis=1)\n",
    "\n",
    "        # Create a dataframe to record  the information\n",
    "        for i,j in enumerate(closest_defender):\n",
    "            temp_df = pd.DataFrame({\n",
    "                'gameId':[g[0]]\n",
    "                ,'playId':[g[1]]\n",
    "                ,'frameId':[g[2]]\n",
    "                ,'displayName':[df_wr.displayName.iloc[i]]\n",
    "                ,'closestDefender':[df_d.displayName.iloc[j]]\n",
    "                ,'closestDefenderDistance':[closest_defender_distance[i]]\n",
    "            })\n",
    "\n",
    "            temp.append(temp_df)\n",
    "            \n",
    "distance_df = pd.concat(temp)"
   ]
  },
  {
   "cell_type": "markdown",
   "id": "f3a349da",
   "metadata": {
    "ExecuteTime": {
     "end_time": "2021-09-27T20:46:49.722429Z",
     "start_time": "2021-09-27T20:46:49.707431Z"
    }
   },
   "source": [
    "## Create Final Dataframes"
   ]
  },
  {
   "cell_type": "code",
   "execution_count": 27,
   "id": "12305309",
   "metadata": {
    "ExecuteTime": {
     "end_time": "2021-09-27T21:09:17.297393Z",
     "start_time": "2021-09-27T21:09:16.250394Z"
    }
   },
   "outputs": [],
   "source": [
    "fbf_df = fbf_df.merge(distance_df, on=['gameId','playId','frameId','displayName'], how='inner')\n",
    "fbf_df = fbf_df[fbf_df.inPoss==1]\n",
    "fbf_df = fbf_df[fbf_df['position'].isin(['WR','TE','RB','HB','FB'])]"
   ]
  },
  {
   "cell_type": "code",
   "execution_count": 35,
   "id": "150db4c6",
   "metadata": {
    "ExecuteTime": {
     "end_time": "2021-09-27T21:12:29.465318Z",
     "start_time": "2021-09-27T21:12:29.365320Z"
    }
   },
   "outputs": [],
   "source": [
    "cols = ['displayName','delta_x', 'delta_y', 'delta_s', 'delta_a', 'delta_dis', 'delta_o', 'delta_dir', \n",
    "       'position', 'frameId', 'gameId',\n",
    "       'playId', 'route',\n",
    "       'personnelO',\n",
    "       'defendersInTheBox', 'numberOfPassRushers', 'personnelD',\n",
    "       'typeDropback', 'targetted',\n",
    "       'closestDefenderDistance','down', 'yardsToGo','WR Tier']\n",
    "\n",
    "snap_df = fbf_df[fbf_df.event==\"ball_snap\"][cols]\n",
    "pass_df = fbf_df[fbf_df.event==\"pass_forward\"][cols]"
   ]
  },
  {
   "cell_type": "code",
   "execution_count": 36,
   "id": "b13766f8",
   "metadata": {
    "ExecuteTime": {
     "end_time": "2021-09-27T21:12:30.641633Z",
     "start_time": "2021-09-27T21:12:30.638632Z"
    }
   },
   "outputs": [
    {
     "data": {
      "text/plain": [
       "(83409, 24)"
      ]
     },
     "execution_count": 36,
     "metadata": {},
     "output_type": "execute_result"
    }
   ],
   "source": [
    "snap_df.shape"
   ]
  },
  {
   "cell_type": "code",
   "execution_count": 40,
   "id": "87e221a5",
   "metadata": {
    "ExecuteTime": {
     "end_time": "2021-09-27T21:15:31.370255Z",
     "start_time": "2021-09-27T21:15:31.359254Z"
    }
   },
   "outputs": [
    {
     "data": {
      "text/plain": [
       "0.19312064645302066"
      ]
     },
     "execution_count": 40,
     "metadata": {},
     "output_type": "execute_result"
    }
   ],
   "source": [
    "snap_df.targetted.sum()/snap_df.shape[0]"
   ]
  },
  {
   "cell_type": "code",
   "execution_count": 37,
   "id": "16980753",
   "metadata": {
    "ExecuteTime": {
     "end_time": "2021-09-27T21:12:30.891972Z",
     "start_time": "2021-09-27T21:12:30.873975Z"
    }
   },
   "outputs": [
    {
     "data": {
      "text/plain": [
       "(82308, 24)"
      ]
     },
     "execution_count": 37,
     "metadata": {},
     "output_type": "execute_result"
    }
   ],
   "source": [
    "pass_df.shape"
   ]
  },
  {
   "cell_type": "code",
   "execution_count": 38,
   "id": "46f6ea1e",
   "metadata": {
    "ExecuteTime": {
     "end_time": "2021-09-27T21:12:31.112994Z",
     "start_time": "2021-09-27T21:12:31.082980Z"
    }
   },
   "outputs": [
    {
     "data": {
      "text/html": [
       "<div>\n",
       "<style scoped>\n",
       "    .dataframe tbody tr th:only-of-type {\n",
       "        vertical-align: middle;\n",
       "    }\n",
       "\n",
       "    .dataframe tbody tr th {\n",
       "        vertical-align: top;\n",
       "    }\n",
       "\n",
       "    .dataframe thead th {\n",
       "        text-align: right;\n",
       "    }\n",
       "</style>\n",
       "<table border=\"1\" class=\"dataframe\">\n",
       "  <thead>\n",
       "    <tr style=\"text-align: right;\">\n",
       "      <th></th>\n",
       "      <th>displayName</th>\n",
       "      <th>delta_x</th>\n",
       "      <th>delta_y</th>\n",
       "      <th>delta_s</th>\n",
       "      <th>delta_a</th>\n",
       "      <th>delta_dis</th>\n",
       "      <th>delta_o</th>\n",
       "      <th>delta_dir</th>\n",
       "      <th>position</th>\n",
       "      <th>frameId</th>\n",
       "      <th>gameId</th>\n",
       "      <th>playId</th>\n",
       "      <th>playDirection</th>\n",
       "      <th>route</th>\n",
       "      <th>personnelO</th>\n",
       "      <th>defendersInTheBox</th>\n",
       "      <th>numberOfPassRushers</th>\n",
       "      <th>personnelD</th>\n",
       "      <th>typeDropback</th>\n",
       "      <th>targetted</th>\n",
       "      <th>closestDefenderDistance</th>\n",
       "      <th>down</th>\n",
       "      <th>yardsToGo</th>\n",
       "      <th>WR Tier</th>\n",
       "    </tr>\n",
       "  </thead>\n",
       "  <tbody>\n",
       "    <tr>\n",
       "      <th>1</th>\n",
       "      <td>Julio Jones</td>\n",
       "      <td>-0.38</td>\n",
       "      <td>17.47</td>\n",
       "      <td>0.00</td>\n",
       "      <td>0.01</td>\n",
       "      <td>0.01</td>\n",
       "      <td>12.12</td>\n",
       "      <td>-185.15</td>\n",
       "      <td>WR</td>\n",
       "      <td>11</td>\n",
       "      <td>2018090600</td>\n",
       "      <td>75</td>\n",
       "      <td>left</td>\n",
       "      <td>HITCH</td>\n",
       "      <td>2 RB, 1 TE, 2 WR</td>\n",
       "      <td>7.0</td>\n",
       "      <td>4.0</td>\n",
       "      <td>4 DL, 2 LB, 5 DB</td>\n",
       "      <td>TRADITIONAL</td>\n",
       "      <td>1</td>\n",
       "      <td>7.472858</td>\n",
       "      <td>1</td>\n",
       "      <td>15</td>\n",
       "      <td>WR1</td>\n",
       "    </tr>\n",
       "    <tr>\n",
       "      <th>2</th>\n",
       "      <td>Mohamed Sanu</td>\n",
       "      <td>-0.96</td>\n",
       "      <td>9.49</td>\n",
       "      <td>0.00</td>\n",
       "      <td>0.00</td>\n",
       "      <td>-0.01</td>\n",
       "      <td>-18.22</td>\n",
       "      <td>59.92</td>\n",
       "      <td>WR</td>\n",
       "      <td>11</td>\n",
       "      <td>2018090600</td>\n",
       "      <td>75</td>\n",
       "      <td>left</td>\n",
       "      <td>HITCH</td>\n",
       "      <td>2 RB, 1 TE, 2 WR</td>\n",
       "      <td>7.0</td>\n",
       "      <td>4.0</td>\n",
       "      <td>4 DL, 2 LB, 5 DB</td>\n",
       "      <td>TRADITIONAL</td>\n",
       "      <td>0</td>\n",
       "      <td>1.920339</td>\n",
       "      <td>1</td>\n",
       "      <td>15</td>\n",
       "      <td>WR1</td>\n",
       "    </tr>\n",
       "    <tr>\n",
       "      <th>3</th>\n",
       "      <td>Devonta Freeman</td>\n",
       "      <td>6.51</td>\n",
       "      <td>-0.05</td>\n",
       "      <td>0.00</td>\n",
       "      <td>0.00</td>\n",
       "      <td>-0.01</td>\n",
       "      <td>-17.46</td>\n",
       "      <td>-41.82</td>\n",
       "      <td>RB</td>\n",
       "      <td>11</td>\n",
       "      <td>2018090600</td>\n",
       "      <td>75</td>\n",
       "      <td>left</td>\n",
       "      <td>NaN</td>\n",
       "      <td>2 RB, 1 TE, 2 WR</td>\n",
       "      <td>7.0</td>\n",
       "      <td>4.0</td>\n",
       "      <td>4 DL, 2 LB, 5 DB</td>\n",
       "      <td>TRADITIONAL</td>\n",
       "      <td>0</td>\n",
       "      <td>12.460915</td>\n",
       "      <td>1</td>\n",
       "      <td>15</td>\n",
       "      <td>WR1</td>\n",
       "    </tr>\n",
       "    <tr>\n",
       "      <th>4</th>\n",
       "      <td>Austin Hooper</td>\n",
       "      <td>-0.44</td>\n",
       "      <td>-4.82</td>\n",
       "      <td>0.00</td>\n",
       "      <td>0.01</td>\n",
       "      <td>-0.01</td>\n",
       "      <td>-26.56</td>\n",
       "      <td>-90.10</td>\n",
       "      <td>TE</td>\n",
       "      <td>11</td>\n",
       "      <td>2018090600</td>\n",
       "      <td>75</td>\n",
       "      <td>left</td>\n",
       "      <td>OUT</td>\n",
       "      <td>2 RB, 1 TE, 2 WR</td>\n",
       "      <td>7.0</td>\n",
       "      <td>4.0</td>\n",
       "      <td>4 DL, 2 LB, 5 DB</td>\n",
       "      <td>TRADITIONAL</td>\n",
       "      <td>0</td>\n",
       "      <td>4.833353</td>\n",
       "      <td>1</td>\n",
       "      <td>15</td>\n",
       "      <td>WR1</td>\n",
       "    </tr>\n",
       "    <tr>\n",
       "      <th>5</th>\n",
       "      <td>Ricky Ortiz</td>\n",
       "      <td>3.38</td>\n",
       "      <td>0.03</td>\n",
       "      <td>0.00</td>\n",
       "      <td>0.00</td>\n",
       "      <td>0.00</td>\n",
       "      <td>-30.31</td>\n",
       "      <td>0.19</td>\n",
       "      <td>FB</td>\n",
       "      <td>11</td>\n",
       "      <td>2018090600</td>\n",
       "      <td>75</td>\n",
       "      <td>left</td>\n",
       "      <td>FLAT</td>\n",
       "      <td>2 RB, 1 TE, 2 WR</td>\n",
       "      <td>7.0</td>\n",
       "      <td>4.0</td>\n",
       "      <td>4 DL, 2 LB, 5 DB</td>\n",
       "      <td>TRADITIONAL</td>\n",
       "      <td>0</td>\n",
       "      <td>9.420133</td>\n",
       "      <td>1</td>\n",
       "      <td>15</td>\n",
       "      <td>WR1</td>\n",
       "    </tr>\n",
       "    <tr>\n",
       "      <th>...</th>\n",
       "      <td>...</td>\n",
       "      <td>...</td>\n",
       "      <td>...</td>\n",
       "      <td>...</td>\n",
       "      <td>...</td>\n",
       "      <td>...</td>\n",
       "      <td>...</td>\n",
       "      <td>...</td>\n",
       "      <td>...</td>\n",
       "      <td>...</td>\n",
       "      <td>...</td>\n",
       "      <td>...</td>\n",
       "      <td>...</td>\n",
       "      <td>...</td>\n",
       "      <td>...</td>\n",
       "      <td>...</td>\n",
       "      <td>...</td>\n",
       "      <td>...</td>\n",
       "      <td>...</td>\n",
       "      <td>...</td>\n",
       "      <td>...</td>\n",
       "      <td>...</td>\n",
       "      <td>...</td>\n",
       "      <td>...</td>\n",
       "    </tr>\n",
       "    <tr>\n",
       "      <th>200120</th>\n",
       "      <td>Jeff Wilson</td>\n",
       "      <td>3.08</td>\n",
       "      <td>8.57</td>\n",
       "      <td>0.70</td>\n",
       "      <td>0.84</td>\n",
       "      <td>0.06</td>\n",
       "      <td>-13.16</td>\n",
       "      <td>17.14</td>\n",
       "      <td>RB</td>\n",
       "      <td>11</td>\n",
       "      <td>2018120910</td>\n",
       "      <td>1750</td>\n",
       "      <td>right</td>\n",
       "      <td>GO</td>\n",
       "      <td>2 RB, 1 TE, 2 WR</td>\n",
       "      <td>5.0</td>\n",
       "      <td>4.0</td>\n",
       "      <td>4 DL, 3 LB, 4 DB</td>\n",
       "      <td>TRADITIONAL</td>\n",
       "      <td>0</td>\n",
       "      <td>8.207411</td>\n",
       "      <td>2</td>\n",
       "      <td>9</td>\n",
       "      <td>WR4</td>\n",
       "    </tr>\n",
       "    <tr>\n",
       "      <th>200126</th>\n",
       "      <td>Kendrick Bourne</td>\n",
       "      <td>0.66</td>\n",
       "      <td>8.54</td>\n",
       "      <td>0.02</td>\n",
       "      <td>0.57</td>\n",
       "      <td>-0.01</td>\n",
       "      <td>27.05</td>\n",
       "      <td>-42.88</td>\n",
       "      <td>WR</td>\n",
       "      <td>11</td>\n",
       "      <td>2018120910</td>\n",
       "      <td>1854</td>\n",
       "      <td>right</td>\n",
       "      <td>IN</td>\n",
       "      <td>2 RB, 1 TE, 2 WR</td>\n",
       "      <td>7.0</td>\n",
       "      <td>5.0</td>\n",
       "      <td>4 DL, 3 LB, 4 DB</td>\n",
       "      <td>TRADITIONAL</td>\n",
       "      <td>0</td>\n",
       "      <td>3.620124</td>\n",
       "      <td>2</td>\n",
       "      <td>3</td>\n",
       "      <td>WR4</td>\n",
       "    </tr>\n",
       "    <tr>\n",
       "      <th>200128</th>\n",
       "      <td>Dante Pettis</td>\n",
       "      <td>-0.27</td>\n",
       "      <td>11.05</td>\n",
       "      <td>0.00</td>\n",
       "      <td>0.07</td>\n",
       "      <td>-0.01</td>\n",
       "      <td>17.71</td>\n",
       "      <td>-4.17</td>\n",
       "      <td>WR</td>\n",
       "      <td>11</td>\n",
       "      <td>2018120910</td>\n",
       "      <td>1854</td>\n",
       "      <td>right</td>\n",
       "      <td>POST</td>\n",
       "      <td>2 RB, 1 TE, 2 WR</td>\n",
       "      <td>7.0</td>\n",
       "      <td>5.0</td>\n",
       "      <td>4 DL, 3 LB, 4 DB</td>\n",
       "      <td>TRADITIONAL</td>\n",
       "      <td>0</td>\n",
       "      <td>6.281059</td>\n",
       "      <td>2</td>\n",
       "      <td>3</td>\n",
       "      <td>WR4</td>\n",
       "    </tr>\n",
       "    <tr>\n",
       "      <th>200129</th>\n",
       "      <td>Garrett Celek</td>\n",
       "      <td>0.59</td>\n",
       "      <td>-4.54</td>\n",
       "      <td>0.20</td>\n",
       "      <td>1.93</td>\n",
       "      <td>0.01</td>\n",
       "      <td>16.38</td>\n",
       "      <td>-147.41</td>\n",
       "      <td>TE</td>\n",
       "      <td>11</td>\n",
       "      <td>2018120910</td>\n",
       "      <td>1854</td>\n",
       "      <td>right</td>\n",
       "      <td>NaN</td>\n",
       "      <td>2 RB, 1 TE, 2 WR</td>\n",
       "      <td>7.0</td>\n",
       "      <td>5.0</td>\n",
       "      <td>4 DL, 3 LB, 4 DB</td>\n",
       "      <td>TRADITIONAL</td>\n",
       "      <td>0</td>\n",
       "      <td>6.507296</td>\n",
       "      <td>2</td>\n",
       "      <td>3</td>\n",
       "      <td>WR4</td>\n",
       "    </tr>\n",
       "    <tr>\n",
       "      <th>200130</th>\n",
       "      <td>Jeff Wilson</td>\n",
       "      <td>-6.30</td>\n",
       "      <td>-0.07</td>\n",
       "      <td>0.15</td>\n",
       "      <td>0.81</td>\n",
       "      <td>0.00</td>\n",
       "      <td>17.89</td>\n",
       "      <td>-107.34</td>\n",
       "      <td>RB</td>\n",
       "      <td>11</td>\n",
       "      <td>2018120910</td>\n",
       "      <td>1854</td>\n",
       "      <td>right</td>\n",
       "      <td>FLAT</td>\n",
       "      <td>2 RB, 1 TE, 2 WR</td>\n",
       "      <td>7.0</td>\n",
       "      <td>5.0</td>\n",
       "      <td>4 DL, 3 LB, 4 DB</td>\n",
       "      <td>TRADITIONAL</td>\n",
       "      <td>0</td>\n",
       "      <td>10.247000</td>\n",
       "      <td>2</td>\n",
       "      <td>3</td>\n",
       "      <td>WR4</td>\n",
       "    </tr>\n",
       "  </tbody>\n",
       "</table>\n",
       "<p>83409 rows × 24 columns</p>\n",
       "</div>"
      ],
      "text/plain": [
       "            displayName  delta_x  delta_y  delta_s  delta_a  delta_dis  \\\n",
       "1           Julio Jones    -0.38    17.47     0.00     0.01       0.01   \n",
       "2          Mohamed Sanu    -0.96     9.49     0.00     0.00      -0.01   \n",
       "3       Devonta Freeman     6.51    -0.05     0.00     0.00      -0.01   \n",
       "4         Austin Hooper    -0.44    -4.82     0.00     0.01      -0.01   \n",
       "5           Ricky Ortiz     3.38     0.03     0.00     0.00       0.00   \n",
       "...                 ...      ...      ...      ...      ...        ...   \n",
       "200120      Jeff Wilson     3.08     8.57     0.70     0.84       0.06   \n",
       "200126  Kendrick Bourne     0.66     8.54     0.02     0.57      -0.01   \n",
       "200128     Dante Pettis    -0.27    11.05     0.00     0.07      -0.01   \n",
       "200129    Garrett Celek     0.59    -4.54     0.20     1.93       0.01   \n",
       "200130      Jeff Wilson    -6.30    -0.07     0.15     0.81       0.00   \n",
       "\n",
       "        delta_o  delta_dir position  frameId      gameId  playId  \\\n",
       "1         12.12    -185.15       WR       11  2018090600      75   \n",
       "2        -18.22      59.92       WR       11  2018090600      75   \n",
       "3        -17.46     -41.82       RB       11  2018090600      75   \n",
       "4        -26.56     -90.10       TE       11  2018090600      75   \n",
       "5        -30.31       0.19       FB       11  2018090600      75   \n",
       "...         ...        ...      ...      ...         ...     ...   \n",
       "200120   -13.16      17.14       RB       11  2018120910    1750   \n",
       "200126    27.05     -42.88       WR       11  2018120910    1854   \n",
       "200128    17.71      -4.17       WR       11  2018120910    1854   \n",
       "200129    16.38    -147.41       TE       11  2018120910    1854   \n",
       "200130    17.89    -107.34       RB       11  2018120910    1854   \n",
       "\n",
       "       playDirection  route        personnelO  defendersInTheBox  \\\n",
       "1               left  HITCH  2 RB, 1 TE, 2 WR                7.0   \n",
       "2               left  HITCH  2 RB, 1 TE, 2 WR                7.0   \n",
       "3               left    NaN  2 RB, 1 TE, 2 WR                7.0   \n",
       "4               left    OUT  2 RB, 1 TE, 2 WR                7.0   \n",
       "5               left   FLAT  2 RB, 1 TE, 2 WR                7.0   \n",
       "...              ...    ...               ...                ...   \n",
       "200120         right     GO  2 RB, 1 TE, 2 WR                5.0   \n",
       "200126         right     IN  2 RB, 1 TE, 2 WR                7.0   \n",
       "200128         right   POST  2 RB, 1 TE, 2 WR                7.0   \n",
       "200129         right    NaN  2 RB, 1 TE, 2 WR                7.0   \n",
       "200130         right   FLAT  2 RB, 1 TE, 2 WR                7.0   \n",
       "\n",
       "        numberOfPassRushers        personnelD typeDropback  targetted  \\\n",
       "1                       4.0  4 DL, 2 LB, 5 DB  TRADITIONAL          1   \n",
       "2                       4.0  4 DL, 2 LB, 5 DB  TRADITIONAL          0   \n",
       "3                       4.0  4 DL, 2 LB, 5 DB  TRADITIONAL          0   \n",
       "4                       4.0  4 DL, 2 LB, 5 DB  TRADITIONAL          0   \n",
       "5                       4.0  4 DL, 2 LB, 5 DB  TRADITIONAL          0   \n",
       "...                     ...               ...          ...        ...   \n",
       "200120                  4.0  4 DL, 3 LB, 4 DB  TRADITIONAL          0   \n",
       "200126                  5.0  4 DL, 3 LB, 4 DB  TRADITIONAL          0   \n",
       "200128                  5.0  4 DL, 3 LB, 4 DB  TRADITIONAL          0   \n",
       "200129                  5.0  4 DL, 3 LB, 4 DB  TRADITIONAL          0   \n",
       "200130                  5.0  4 DL, 3 LB, 4 DB  TRADITIONAL          0   \n",
       "\n",
       "        closestDefenderDistance  down  yardsToGo WR Tier  \n",
       "1                      7.472858     1         15     WR1  \n",
       "2                      1.920339     1         15     WR1  \n",
       "3                     12.460915     1         15     WR1  \n",
       "4                      4.833353     1         15     WR1  \n",
       "5                      9.420133     1         15     WR1  \n",
       "...                         ...   ...        ...     ...  \n",
       "200120                 8.207411     2          9     WR4  \n",
       "200126                 3.620124     2          3     WR4  \n",
       "200128                 6.281059     2          3     WR4  \n",
       "200129                 6.507296     2          3     WR4  \n",
       "200130                10.247000     2          3     WR4  \n",
       "\n",
       "[83409 rows x 24 columns]"
      ]
     },
     "execution_count": 38,
     "metadata": {},
     "output_type": "execute_result"
    }
   ],
   "source": [
    "snap_df"
   ]
  },
  {
   "cell_type": "code",
   "execution_count": null,
   "id": "6bd40fac",
   "metadata": {},
   "outputs": [],
   "source": []
  }
 ],
 "metadata": {
  "kernelspec": {
   "display_name": "Python 3",
   "language": "python",
   "name": "python3"
  },
  "language_info": {
   "codemirror_mode": {
    "name": "ipython",
    "version": 3
   },
   "file_extension": ".py",
   "mimetype": "text/x-python",
   "name": "python",
   "nbconvert_exporter": "python",
   "pygments_lexer": "ipython3",
   "version": "3.8.8"
  },
  "toc": {
   "base_numbering": 1,
   "nav_menu": {},
   "number_sections": true,
   "sideBar": true,
   "skip_h1_title": false,
   "title_cell": "Table of Contents",
   "title_sidebar": "Contents",
   "toc_cell": false,
   "toc_position": {},
   "toc_section_display": true,
   "toc_window_display": true
  }
 },
 "nbformat": 4,
 "nbformat_minor": 5
}
